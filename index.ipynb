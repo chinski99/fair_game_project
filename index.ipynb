{
 "cells": [
  {
   "cell_type": "markdown",
   "metadata": {},
   "source": [
    "# Fair game"
   ]
  },
  {
   "cell_type": "markdown",
   "metadata": {
    "pycharm": {
     "name": "#%% md\n"
    }
   },
   "source": [
    "## All about solving probability tasks, bringing justice to to the world and finding gold in the unlikely places.\n",
    "\n"
   ]
  },
  {
   "cell_type": "markdown",
   "metadata": {},
   "source": [
    "<img src='golden.jpg'></img>"
   ]
  },
  {
   "cell_type": "markdown",
   "metadata": {},
   "source": [
    "## Part I - The original case"
   ]
  },
  {
   "cell_type": "markdown",
   "metadata": {
    "pycharm": {
     "name": "#%% md\n"
    }
   },
   "source": [
    "The inspiration for this page has been an unfinished problem taken from the test on probability.\n",
    "\n",
    "**Olga and Darek play a game containing one green marble and two red marbles. Each player in turn randomly selects a marble from the bag, notes its colour and replaces it. Olga wins the game if she selects a green marble. Darek wins the game if he selects a red marble. Olga starts the game.**\n",
    "\n",
    "**Find the probability that**\n",
    "- _Olga wins on her first turn_\n",
    "- _Darek wins on his first turn_\n",
    "- _Olga wins in one of her first three turns_\n",
    "- _Olga eventually wins_\n"
   ]
  },
  {
   "cell_type": "markdown",
   "metadata": {},
   "source": [
    "The first two questions are easy. The probabilities are:\n",
    "\\begin{equation*}\n",
    "P\\left(O\\right)=\\frac{1}{3}\n",
    "\\end{equation*}\n",
    "\n",
    "\\begin{equation*}\n",
    "P\\left(D\\right)=\\frac{4}{9}\n",
    "\\end{equation*}"
   ]
  },
  {
   "cell_type": "markdown",
   "metadata": {},
   "source": [
    "The tricky part starts with question number 3. Apparently the correct answer is that Ola can win in first turn (probability = 1/3), second turn (probability = 1/3 * 2/9, because first turn has to be a draw) or third turn (probability = 1/3 * 2/9 * 2/9, first two turns result in a draw). \n",
    "The summary probability is:\n",
    "\n",
    "\\begin{equation*}\n",
    "P\\left(O3\\right)=\\frac{1}{3}+\\frac{2}{27}+\\frac{4}{243}=\\frac{103}{243}\n",
    "\\end{equation*}"
   ]
  },
  {
   "attachments": {
    "obraz.png": {
     "image/png": "[encoded data removed]"
    }
   },
   "cell_type": "markdown",
   "metadata": {},
   "source": [
    "How can we verify the result? ![obraz.png](attachment:obraz.png) Python to the rescue! Below is a simple script that simulates a number of games and counts the events."
   ]
  },
  {
   "cell_type": "code",
   "execution_count": 1,
   "metadata": {},
   "outputs": [
    {
     "name": "stdout",
     "output_type": "stream",
     "text": [
      "The probability of Olga winning in three rounds is 0.424078\n"
     ]
    }
   ],
   "source": [
    "from random import randint\n",
    "\n",
    "\n",
    "def game(r, b, n): # number of red marbles, green marbles, number of games\n",
    "    w = [0, 0]\n",
    "    for i in range(n):\n",
    "        draw = True\n",
    "        round = 0\n",
    "        while draw and round<3:  # playing up to 3 rounds\n",
    "            round+=1\n",
    "            p = randint(1, r + b)\n",
    "            if p <= r:\n",
    "                w[0] += 1\n",
    "                draw = False\n",
    "            else:\n",
    "                p = randint(1, r + b)\n",
    "                if p > r:\n",
    "                    w[1] += 1\n",
    "                    draw = False\n",
    "    return w  # [wins by Ola, wins by Darek]\n",
    "\n",
    "n = 1000000\n",
    "res = game(1, 2, n)\n",
    "print('The probability of Olga winning in three rounds is {}'.format(res[0]/n))"
   ]
  },
  {
   "cell_type": "markdown",
   "metadata": {},
   "source": [
    "The result above confirms our thinking with pretty good accuracy."
   ]
  },
  {
   "cell_type": "markdown",
   "metadata": {},
   "source": [
    "Having the probability for the win in three rounds we can easily extend the results to infinity in order to answer the last question. The probability that Olga eventually wins is:\n",
    "\n",
    "\\begin{equation*}\n",
    "P\\left(OI\\right)=\\frac{1}{3}\\sum_{i=0}^{\\infty}{{(\\frac{2}{9})}^i=\\frac{1}{3}\\frac{1}{1-\\frac{2}{9}}=\\frac{3}{7}}\n",
    "\\end{equation*}\n"
   ]
  },
  {
   "cell_type": "markdown",
   "metadata": {},
   "source": [
    "This result can be confirmed by a script as well:"
   ]
  },
  {
   "cell_type": "code",
   "execution_count": 2,
   "metadata": {},
   "outputs": [
    {
     "name": "stdout",
     "output_type": "stream",
     "text": [
      "The probability of Olga eventually winning is 0.428484\n"
     ]
    }
   ],
   "source": [
    "from random import randint\n",
    "\n",
    "\n",
    "def game(r, b, n): # number of red marbles, green marbles, number of games\n",
    "    w = [0, 0]\n",
    "    for i in range(n):\n",
    "        draw = True\n",
    "        round = 0\n",
    "        while draw:\n",
    "            round+=1\n",
    "            p = randint(1, r + b)\n",
    "            if p <= r:\n",
    "                w[0] += 1\n",
    "                draw = False\n",
    "            else:\n",
    "                p = randint(1, r + b)\n",
    "                if p > r:\n",
    "                    w[1] += 1\n",
    "                    draw = False\n",
    "    return w  # [wins by Ola, wins by Darek]\n",
    "\n",
    "n = 1000000\n",
    "res = game(1, 2, n)\n",
    "print('The probability of Olga eventually winning is {}'.format(res[0]/n))"
   ]
  },
  {
   "cell_type": "markdown",
   "metadata": {},
   "source": [
    "And that's the end of the original problem."
   ]
  },
  {
   "cell_type": "markdown",
   "metadata": {},
   "source": [
    "## Part II - fight for justice"
   ]
  },
  {
   "cell_type": "markdown",
   "metadata": {},
   "source": [
    "All is well and good, but one can't help but notice that poor Olga has clearly less chance to win than her partner. In the era of growing conscience about the equal treatment we simply cannot let the rules of the game unfairly favourise one player.\n",
    "Hence the question arises - how do we even out the chances in this game?"
   ]
  },
  {
   "cell_type": "markdown",
   "metadata": {},
   "source": [
    "Yet again we use a simulation to find the number of marbles required to make the game fair. The script below is looking for a number of red marbles in proportion to green ones and tries to even out the probabilities for both players. Since we know how to calculate the probabilities, we don't need to simulate the game anymore, instead we count the probability of eventual win directly.\n",
    "The algorithm is looking at the odds and depending on the result is adding either a red or a green marble."
   ]
  },
  {
   "cell_type": "code",
   "execution_count": 3,
   "metadata": {},
   "outputs": [
    {
     "name": "stdout",
     "output_type": "stream",
     "text": [
      "0.6180341829035\n"
     ]
    }
   ],
   "source": [
    "from math import sqrt\n",
    "\n",
    "def fair(n):\n",
    "    bl = [1, 2]\n",
    "    t = 0\n",
    "    for i in range(n):\n",
    "        t = game_precise(bl[0], bl[1], n)\n",
    "        bl[t.index(min(t))] += 1\n",
    "    return bl[0]/bl[1]\n",
    "\n",
    "\n",
    "def game_precise(a,b,n):\n",
    "    pa=a/(a+b)\n",
    "    pb=(b/(a+b))**2\n",
    "    pr=1-pa-pb\n",
    "    eva=pa/(1-pr)\n",
    "    return [int(eva*n), n-int(eva*n)]\n",
    "\n",
    "r = fair(10000000)\n",
    "print(r)"
   ]
  },
  {
   "cell_type": "markdown",
   "metadata": {},
   "source": [
    "Due to its linear complexity the algorithm is reaching its limits at around 10 million marbles."
   ]
  },
  {
   "cell_type": "markdown",
   "metadata": {
    "pycharm": {
     "name": "#%% md\n"
    }
   },
   "source": [
    "The bisection algorithm allows to get more precise result."
   ]
  },
  {
   "cell_type": "code",
   "execution_count": 6,
   "metadata": {},
   "outputs": [
    {
     "name": "stdout",
     "output_type": "stream",
     "text": [
      "0.6180339888\n"
     ]
    }
   ],
   "source": [
    "def fair_bin(n):\n",
    "    bl=[1,n]\n",
    "    t=0\n",
    "    b=bl[0]\n",
    "    e=bl[1]\n",
    "    while b<e:\n",
    "        m=(b+e)//2\n",
    "        bl[0]=m\n",
    "        t=game_precise(bl[0],bl[1],n)\n",
    "        if t[0]<t[1]:  \n",
    "            b=m+1\n",
    "        else:\n",
    "            e=m-1\n",
    "\n",
    "    return bl[0]/bl[1]\n",
    "\n",
    "r = fair_bin(10000000000)\n",
    "print(r)"
   ]
  },
  {
   "cell_type": "markdown",
   "metadata": {
    "pycharm": {
     "name": "#%%\n"
    }
   },
   "source": [
    "%matplotlib inline"
   ]
  },
  {
   "cell_type": "code",
   "execution_count": 7,
   "metadata": {},
   "outputs": [
    {
     "data": {
      "text/plain": [
       "<AxesSubplot:xlabel='marbles', ylabel='approximation'>"
      ]
     },
     "execution_count": 7,
     "metadata": {},
     "output_type": "execute_result"
    },
    {
     "data": {
      "image/png": "[encoded data removed]",
      "text/plain": [
       "<Figure size 504x504 with 1 Axes>"
      ]
     },
     "metadata": {},
     "output_type": "display_data"
    }
   ],
   "source": [
    "import numpy as np\n",
    "import pandas as pd\n",
    "import seaborn as sns\n",
    "import matplotlib.pyplot as plt\n",
    "\n",
    "\n",
    "sns.set_theme(style=\"whitegrid\")\n",
    "x = 10 ** np.arange(3, 9)\n",
    "y = np.array([fair_bin(a) for a in x])\n",
    "data = pd.DataFrame(data={'marbles': x, 'approximation': y})\n",
    "\n",
    "f, ax = plt.subplots(figsize=(7, 7))\n",
    "ax.set(xscale=\"log\", yscale=\"linear\")\n",
    "sns.scatterplot(x=\"marbles\", y=\"approximation\", data=data)"
   ]
  },
  {
   "cell_type": "markdown",
   "metadata": {},
   "source": [
    "The results get more exact, but it looks like the proportion of red to green marbles giving the fair result is not a quotient number.\n"
   ]
  },
  {
   "cell_type": "markdown",
   "metadata": {},
   "source": [
    "In order to verify this hypothesis let's try to calculate the ratio using the formulas."
   ]
  },
  {
   "cell_type": "markdown",
   "metadata": {},
   "source": [
    "We have the following probabilities for a single round:\n",
    "\n",
    "\\begin{equation*}\n",
    "P\\left(O\\right)=\\frac{r}{r+g}\n",
    "\\end{equation*}\n",
    "\n",
    "\\begin{equation*}\n",
    "P\\left(D\\right)=\\left(\\frac{g}{r+g}\\right)^2\n",
    "\\end{equation*}\n",
    "\n",
    "\\begin{equation*}\n",
    "P\\left(R\\right)=1-P\\left(O\\right)-P\\left(D\\right)\n",
    "\\end{equation*}\n"
   ]
  },
  {
   "cell_type": "markdown",
   "metadata": {},
   "source": [
    "The probability of Olga eventually winning can be described as:\n",
    "\n",
    "\\begin{equation*}\n",
    "P\\left(OI\\right)=\\frac{P(O)}{1-P(R)}=\\frac{r(r+g)}{r^2+{rg+g}^2}\n",
    "\\end{equation*}"
   ]
  },
  {
   "cell_type": "markdown",
   "metadata": {},
   "source": [
    "To even out the odds we would like this prbability to be 0.5, this leads us to the equation:\n",
    "\n",
    "\\begin{equation*}\n",
    "\\frac{r(r+g)}{r^2+rg+g^2}=0.5\n",
    "\\end{equation*}"
   ]
  },
  {
   "cell_type": "markdown",
   "metadata": {},
   "source": [
    "Solving for g we get:\n",
    "\n",
    "\\begin{equation*}\n",
    "g^2-rg\\ +\\ r^2=0\n",
    "\\end{equation*}\n",
    "\n",
    "\\begin{equation*}\n",
    "∆ =5r^2\n",
    "\\end{equation*}\n",
    "\n",
    "\\begin{equation*}\n",
    "g=\\frac{(1\\pm\\sqrt5)r}{2}\n",
    "\\end{equation*}"
   ]
  },
  {
   "cell_type": "markdown",
   "metadata": {},
   "source": [
    "Since r has to be positive, we finally arrive at:\n",
    "\\begin{equation*}\n",
    "\\frac{g}{r}=\\frac{\\sqrt5+1}{2}\n",
    "\\end{equation*}"
   ]
  },
  {
   "cell_type": "markdown",
   "metadata": {},
   "source": [
    "# Neat, we found a golden ratio among the marbles :)"
   ]
  },
  {
   "cell_type": "markdown",
   "metadata": {},
   "source": [
    "https://en.wikipedia.org/wiki/Golden_ratio"
   ]
  },
  {
   "cell_type": "markdown",
   "metadata": {
    "pycharm": {
     "name": "#%% md\n"
    }
   },
   "source": [
    "<img src='phi.svg'></img>"
   ]
  },
  {
   "cell_type": "markdown",
   "source": [
    "<img src='Golden_ratio_line.svg'></img>"
   ],
   "metadata": {
    "collapsed": false
   }
  },
  {
   "cell_type": "markdown",
   "source": [
    "<img src='Golden_ratio_line.svg'></img>"
   ],
   "metadata": {
    "collapsed": false
   }
  },
  {
   "cell_type": "markdown",
   "metadata": {},
   "source": [
    "<img src='Golden_ratio_line.svg'></img>"
   ]
  }
 ],
 "metadata": {
  "kernelspec": {
   "display_name": "Python 3",
   "language": "python",
   "name": "python3"
  },
  "language_info": {
   "codemirror_mode": {
    "name": "ipython",
    "version": 3
   },
   "file_extension": ".py",
   "mimetype": "text/x-python",
   "name": "python",
   "nbconvert_exporter": "python",
   "pygments_lexer": "ipython3",
   "version": "3.9.0"
  }
 },
 "nbformat": 4,
 "nbformat_minor": 2
}